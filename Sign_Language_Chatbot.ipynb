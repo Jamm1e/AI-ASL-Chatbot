{
  "nbformat": 4,
  "nbformat_minor": 0,
  "metadata": {
    "colab": {
      "provenance": [],
      "include_colab_link": true
    },
    "kernelspec": {
      "name": "python3",
      "display_name": "Python 3"
    },
    "language_info": {
      "name": "python"
    }
  },
  "cells": [
    {
      "cell_type": "markdown",
      "metadata": {
        "id": "view-in-github",
        "colab_type": "text"
      },
      "source": [
        "<a href=\"https://colab.research.google.com/github/Jamm1e/AI-ASL-Chatbot/blob/main/Sign_Language_Chatbot.ipynb\" target=\"_parent\"><img src=\"https://colab.research.google.com/assets/colab-badge.svg\" alt=\"Open In Colab\"/></a>"
      ]
    },
    {
      "cell_type": "code",
      "source": [
        "#Imports\n",
        "import json\n",
        "import os\n",
        "from google import genai\n",
        "from google.colab import userdata\n",
        "import ast\n",
        "from IPython.display import Image, HTML"
      ],
      "metadata": {
        "id": "QwmlYdZNPDI5"
      },
      "execution_count": null,
      "outputs": []
    },
    {
      "cell_type": "code",
      "source": [
        "# Get the API key from Colab secrets\n",
        "GOOGLE_API_KEY = userdata.get('GOOGLE_API_KEY')\n",
        "\n",
        "client = genai.Client(api_key=userdata.get('GOOGLE_API_KEY'))\n"
      ],
      "metadata": {
        "id": "aQsxt-ZlVV2L"
      },
      "execution_count": null,
      "outputs": []
    },
    {
      "cell_type": "code",
      "source": [
        "asl= {\n",
        "  \"hello\": {\n",
        "    \"description\": \"Extend your dominant hand to your forehead and move it outward in a wave.\",\n",
        "    \"media\": \"https://media.giphy.com/media/v1.Y2lkPTc5MGI3NjExazQxbHFqaGxlcWR6NTNoaTUya3V5a2k5NmM4eGZrYjVrdmlxMnRpcyZlcD12MV9naWZzX3NlYXJjaCZjdD1n/3o7TKNKOfKlIhbD3gY/giphy.gif\"\n",
        "  },\n",
        "  \"thank you\": {\n",
        "    \"description\": \"Touch your fingertips to your chin and move your hand forward away from your face.\",\n",
        "    \"media\": \"https://media.giphy.com/media/v1.Y2lkPTc5MGI3NjExa2RoZ28ybGdzbzRud2c1dzFkZXc1OWZ5MTZrbDQ0eWFoOGczMDJvMyZlcD12MV9naWZzX3NlYXJjaCZjdD1n/l0MYrlUnFtq25TQR2/giphy.gif\"\n",
        "  },\n",
        "  \"please\": {\n",
        "    \"description\": \"Place your flat hand on your chest and move it in a circular motion clockwise.\",\n",
        "    \"media\": \"https://media.giphy.com/media/v1.Y2lkPTc5MGI3NjExcmo4aTEzbTMwZDkzaHU5c2RuMWR2OHprZ2p2OXY2OW03bWJ0Y3ZmdiZlcD12MV9naWZzX3NlYXJjaCZjdD1n/huYf3E7752zRXid8jn/giphy.gif\"\n",
        "  },\n",
        "  \"sorry\": {\n",
        "    \"description\": \"Make a fist with your dominant hand and rub it in a circular motion on your chest.\",\n",
        "    \"media\": \"https://media.giphy.com/media/v1.Y2lkPTc5MGI3NjExMjhrMWZvaHY4aDRuaTQ3bzhsdnFsbjd4ejF2NHAxMWgxbHdkZ3lwNCZlcD12MV9naWZzX3NlYXJjaCZjdD1n/3o7TKq0oNLk8ljH7vG/giphy.gif\"\n",
        "  },\n",
        "  \"yes\": {\n",
        "    \"description\": \"Form a fist and nod it up and down, mimicking the motion of a head nodding 'yes'.\",\n",
        "    \"media\": \"https://media.giphy.com/media/v1.Y2lkPTc5MGI3NjExeG9sdXV5cTN6d2NweG81MWFhbGgxOHgwM2J2eTJpbnB4dHk2cm9kbiZlcD12MV9naWZzX3NlYXJjaCZjdD1n/HPzibLwAhOP6ozRvSb/giphy.gif\"\n",
        "  },\n",
        "  \"no\": {\n",
        "    \"description\": \"Extend your index and middle fingers together, tap them with your thumb like a 'mouth' closing.\",\n",
        "    \"media\": \"https://media.giphy.com/media/v1.Y2lkPTc5MGI3NjExcjlza3F4Y2h5aXhiaHNzdTRpbDhndmN3aTI4b2V5Z2Rld2ZoanZzZyZlcD12MV9naWZzX3NlYXJjaCZjdD1n/l4Jz4faxuS1FiSEV2/giphy.gif\"\n",
        "  },\n",
        "  \"help\": {\n",
        "    \"description\": \"Place your dominant hand in a thumbs-up on your open non-dominant palm, then lift both upward.\",\n",
        "    \"media\": \"https://media.giphy.com/media/v1.Y2lkPTc5MGI3NjExZHU1YzY5cDhuNDR3d3Mwb2huOWxrcWRmenJqeGhnNHc4OHFxNThxNCZlcD12MV9naWZzX3NlYXJjaCZjdD1n/l0MYQo0iDSTlnRifK/giphy.gif\"\n",
        "  },\n",
        "  \"bathroom\": {\n",
        "    \"description\": \"Make a 'T' handshape (thumb between index and middle fingers) and shake it side to side.\",\n",
        "    \"media\": \"https://media.giphy.com/media/v1.Y2lkPTc5MGI3NjExdzc3Z3c3MW15bDU0ejZlZG03OGtldWg0MWJxY21pMzZ0bDVobHNocyZlcD12MV9naWZzX3NlYXJjaCZjdD1n/26DONjlzKa7fM9HUI/giphy.gif\"\n",
        "  },\n",
        "  \"more\": {\n",
        "    \"description\": \"Bring your fingertips on both hands together and tap them together a few times.\",\n",
        "    \"media\": \"https://media.giphy.com/media/v1.Y2lkPTc5MGI3NjExaGQwdHBrOXdlaXhxd2piY2ExZW9yNGwzc2c0cWs3eTZqNXpxbnhsbyZlcD12MV9naWZzX3NlYXJjaCZjdD1n/aM8jkj3Z7Mq7IgvySX/giphy.gif\"\n",
        "  },\n",
        "  \"friend\": {\n",
        "    \"description\": \"Hook the index fingers of both hands together, then reverse the hook and repeat.\",\n",
        "    \"media\": \"https://media.giphy.com/media/v1.Y2lkPTc5MGI3NjExcTE4bnR5bnhqYjVmb25tZW5lbmV4ZXh0cWlrMDBhMGUxNXF4Mm1oNyZlcD12MV9naWZzX3NlYXJjaCZjdD1n/3o7TKxJ9b7iHDWj0pa/giphy.gif\"\n",
        "  }\n",
        "}\n",
        "\n",
        "filename = 'sign_language.json'\n",
        "with open(filename, 'w') as f:\n",
        "    json.dump(asl, f, indent=2)\n",
        "    print(f\"JSON file '{filename}' has been created.\")\n"
      ],
      "metadata": {
        "id": "jW3qo5rBGqQl",
        "colab": {
          "base_uri": "https://localhost:8080/"
        },
        "outputId": "2a72edde-16db-4211-9016-9a9bfdd342bd"
      },
      "execution_count": null,
      "outputs": [
        {
          "output_type": "stream",
          "name": "stdout",
          "text": [
            "JSON file 'sign_language.json' has been created.\n"
          ]
        }
      ]
    },
    {
      "cell_type": "code",
      "source": [
        "#Functions\n",
        "\n",
        "def jSon_to_dict(filename=\"sign_language.json\"):\n",
        "\n",
        "  filepath = \"/content/sign_language.json\"\n",
        "\n",
        "  try:\n",
        "      with open(filepath, 'r', encoding='utf-8') as file:\n",
        "          asl_data_dict = json.load(file)\n",
        "          return asl_data_dict\n",
        "  except FileNotFoundError:\n",
        "      print(f\"Error: The file '{filename}' was not found at '{filepath}'.\")\n",
        "      return None\n",
        "  except json.JSONDecodeError:\n",
        "      print(f\"Error: Could not decode JSON from '{filename}'.\")\n",
        "      return None\n",
        "  except Exception as e:\n",
        "      print(f\"An unexpected error occurred: {e}\")\n",
        "      return None"
      ],
      "metadata": {
        "id": "nHFPqsSSN-FN"
      },
      "execution_count": null,
      "outputs": []
    },
    {
      "cell_type": "code",
      "source": [
        "library = jSon_to_dict()\n",
        "# print(library[\"thank you\"][\"description\"])"
      ],
      "metadata": {
        "id": "-RBe5TjqPjPz"
      },
      "execution_count": null,
      "outputs": []
    },
    {
      "cell_type": "code",
      "source": [
        "user_prompt = input()\n",
        "user_prompt = user_prompt.lower()\n",
        "\n",
        "print(f\"Prompt: {user_prompt}\")"
      ],
      "metadata": {
        "id": "dVS6UbO7R09c",
        "colab": {
          "base_uri": "https://localhost:8080/"
        },
        "outputId": "2f06574a-0d2f-463d-f512-29b50a4bea42"
      },
      "execution_count": null,
      "outputs": [
        {
          "output_type": "stream",
          "name": "stdout",
          "text": [
            "how to say thank you in asl?\n",
            "Prompt: how to say thank you in asl?\n"
          ]
        }
      ]
    },
    {
      "cell_type": "code",
      "source": [
        "process = client.models.generate_content(\n",
        "    model=\"gemini-2.5-flash\",\n",
        "    contents=f\"Give me a Python list of words from the phrase {user_prompt}. Keep 'thank you' as one element. Just respond with the raw Python list object and nothing else. No code blocks, no commentary, no quotes, just the list.\",\n",
        ")\n",
        "\n",
        "print(process)\n",
        "\n",
        "actual_list = None # Initialize actual_list to None\n",
        "\n",
        "if process.candidates:\n",
        "    # Get the first candidate (usually there's only one for simple text responses)\n",
        "    first_candidate = process.candidates[0]\n",
        "\n",
        "    if first_candidate.content and first_candidate.content.parts:\n",
        "        # Get the first part of the content\n",
        "        first_part = first_candidate.content.parts[0]\n",
        "\n",
        "        # The text is a string representation of a list\n",
        "        list_as_string_raw = first_part.text\n",
        "\n",
        "        #Cleaned list\n",
        "        list_as_string_cleaned = list_as_string_raw.replace(\"```python\", \"\").replace(\"```\", \"\").strip()\n",
        "\n",
        "        try:\n",
        "          actual_list = ast.literal_eval(list_as_string_cleaned)\n",
        "\n",
        "        except (ValueError, SyntaxError) as e:\n",
        "            print(f\"Error converting string to list: {e}\")\n",
        "            print(\"The string content might not be a valid list representation.\")\n",
        "    else:\n",
        "      print(\"No content parts found in the candidate.\")"
      ],
      "metadata": {
        "id": "vRfEckYFZF5N",
        "colab": {
          "base_uri": "https://localhost:8080/"
        },
        "outputId": "77f019f2-8920-41f4-f641-148b8ec38326"
      },
      "execution_count": null,
      "outputs": [
        {
          "output_type": "stream",
          "name": "stdout",
          "text": [
            "sdk_http_response=HttpResponse(\n",
            "  headers=<dict len=10>\n",
            ") candidates=[Candidate(\n",
            "  content=Content(\n",
            "    parts=[\n",
            "      Part(\n",
            "        text=\"['how', 'to', 'say', 'thank you', 'in', 'asl?']\"\n",
            "      ),\n",
            "    ],\n",
            "    role='model'\n",
            "  ),\n",
            "  finish_reason=<FinishReason.STOP: 'STOP'>,\n",
            "  index=0\n",
            ")] create_time=None response_id=None model_version='gemini-2.5-flash' prompt_feedback=None usage_metadata=GenerateContentResponseUsageMetadata(\n",
            "  candidates_token_count=21,\n",
            "  prompt_token_count=54,\n",
            "  prompt_tokens_details=[\n",
            "    ModalityTokenCount(\n",
            "      modality=<MediaModality.TEXT: 'TEXT'>,\n",
            "      token_count=54\n",
            "    ),\n",
            "  ],\n",
            "  thoughts_token_count=135,\n",
            "  total_token_count=210\n",
            ") automatic_function_calling_history=[] parsed=None\n"
          ]
        }
      ]
    },
    {
      "cell_type": "code",
      "source": [
        "keywords = list(library.keys())\n",
        "print(keywords)\n",
        "\n",
        "with open('keywords.txt', 'w') as file:\n",
        "    for keyword in keywords:\n",
        "        file.write(keyword + '\\n')\n",
        "\n",
        "found = []\n",
        "\n",
        "if actual_list is not None: # Only proceed if actual_list was successfully created\n",
        "  for word in actual_list:\n",
        "    if word in keywords:\n",
        "      found.append(word)\n",
        "\n",
        "print(found)"
      ],
      "metadata": {
        "id": "ba3M8HQIf0Uv",
        "colab": {
          "base_uri": "https://localhost:8080/"
        },
        "outputId": "6a640d81-aea4-4503-c3d8-2e0ebb28564d"
      },
      "execution_count": null,
      "outputs": [
        {
          "output_type": "stream",
          "name": "stdout",
          "text": [
            "['hello', 'thank you', 'please', 'sorry', 'yes', 'no', 'help', 'bathroom', 'more', 'friend']\n",
            "['thank you']\n"
          ]
        }
      ]
    },
    {
      "cell_type": "code",
      "source": [
        "def display_gif_from_url_html(gif_url, gif_desc):\n",
        "\n",
        "    html_code = f'<img src=\"{gif_url}\" style=\"width:300px;height:200px\">'\n",
        "\n",
        "\n",
        "    print(f\"GIF displayed from URL: {gif_url}\")\n",
        "    display(HTML(html_code))\n",
        "    print(f\"How To: {gif_desc}\")"
      ],
      "metadata": {
        "id": "fbq270yejFcY"
      },
      "execution_count": null,
      "outputs": []
    },
    {
      "cell_type": "code",
      "source": [
        "for phrase in found:\n",
        "  display_gif_from_url_html(library[phrase]['media'], library[phrase]['description'])"
      ],
      "metadata": {
        "id": "HOuzZ_1SkPaP",
        "colab": {
          "base_uri": "https://localhost:8080/",
          "height": 276
        },
        "outputId": "9abb1d53-02d1-4fff-f98a-2e91c96ca221"
      },
      "execution_count": null,
      "outputs": [
        {
          "output_type": "stream",
          "name": "stdout",
          "text": [
            "GIF displayed from URL: https://media.giphy.com/media/v1.Y2lkPTc5MGI3NjExa2RoZ28ybGdzbzRud2c1dzFkZXc1OWZ5MTZrbDQ0eWFoOGczMDJvMyZlcD12MV9naWZzX3NlYXJjaCZjdD1n/l0MYrlUnFtq25TQR2/giphy.gif\n"
          ]
        },
        {
          "output_type": "display_data",
          "data": {
            "text/plain": [
              "<IPython.core.display.HTML object>"
            ],
            "text/html": [
              "<img src=\"https://media.giphy.com/media/v1.Y2lkPTc5MGI3NjExa2RoZ28ybGdzbzRud2c1dzFkZXc1OWZ5MTZrbDQ0eWFoOGczMDJvMyZlcD12MV9naWZzX3NlYXJjaCZjdD1n/l0MYrlUnFtq25TQR2/giphy.gif\" style=\"width:300px;height:200px\">"
            ]
          },
          "metadata": {}
        },
        {
          "output_type": "stream",
          "name": "stdout",
          "text": [
            "How To: Touch your fingertips to your chin and move your hand forward away from your face.\n"
          ]
        }
      ]
    }
  ]
}